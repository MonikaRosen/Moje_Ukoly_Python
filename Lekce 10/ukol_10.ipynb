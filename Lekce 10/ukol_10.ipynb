{
 "cells": [
  {
   "cell_type": "code",
   "execution_count": null,
   "metadata": {},
   "outputs": [],
   "source": [
    "import requests\n",
    "\n",
    "r = requests.get(\"https://raw.githubusercontent.com/andywaltlova/python-1-podzim-2022/master/ukoly/data/zam_praha.csv\")\n",
    "open(\"zam_praha.csv\", \"wb\").write(r.content)\n",
    "\n",
    "r = requests.get(\"https://raw.githubusercontent.com/andywaltlova/python-1-podzim-2022/master/ukoly/data/zam_plzeň.csv\")\n",
    "open(\"zam_plzeň.csv\", \"wb\").write(r.content)\n",
    "\n",
    "r = requests.get(\"https://raw.githubusercontent.com/andywaltlova/python-1-podzim-2022/master/ukoly/data/zam_liberec.csv\")\n",
    "open(\"zam_liberec.csv\", \"wb\").write(r.content)\n",
    "\n",
    "r = requests.get(\"https://raw.githubusercontent.com/andywaltlova/python-1-podzim-2022/master/ukoly/data/platy_2021_02.csv\")\n",
    "open(\"platy_2021_02.csv\", \"wb\").write(r.content)"
   ]
  },
  {
   "cell_type": "code",
   "execution_count": null,
   "metadata": {},
   "outputs": [],
   "source": [
    "# Načti data o zaměstnancích z CSV souborů do tabulek (DataFrame). Ke každé tabulce přidej nový sloupec mesto, které bude obsahovat informaci o tom, ve kterém městě zaměstnanec pracuje.\n",
    "import pandas\n",
    "zam_praha = pandas.read_csv('zam_praha.csv')\n",
    "\n",
    "zam_plzeň = pandas.read_csv('zam_plzeň.csv')\n",
    "\n",
    "zam_liberec = pandas.read_csv('zam_liberec.csv')\n",
    "\n",
    "platy_2021_02 = pandas.read_csv('platy_2021_02.csv')\n",
    "\n",
    "zam_liberec['Misto'] = 'Liberec'\n",
    "zam_praha['Misto'] = 'Praha'\n",
    "zam_plzeň['Misto'] = 'Plzen'"
   ]
  },
  {
   "cell_type": "code",
   "execution_count": null,
   "metadata": {},
   "outputs": [],
   "source": [
    "# Vytvoř novou tabulku zamestnanci a ulož do ní informace o všech zaměstnancích.\n",
    "\n",
    "zamestnanci = pandas.concat([zam_praha, zam_plzeň, zam_liberec], ignore_index=True)\n",
    "zamestnanci\n",
    "\n",
    "# Ze souboru platy_2021_02.csv načti platy zaměstnanců za únor 2021. Propoj tabulku (operace join) s platy a tabulku se zaměstnanci pomocí sloupce cislo_zamestnance.\n",
    "\n",
    "zam_platy = pandas.merge(zamestnanci, platy_2021_02, on=['cislo_zamestnance'], how='left')\n",
    "\n",
    "zam_platy\n",
    "\n",
    "# Porovnej rozměry tabulek před spojením a po spojení. Pokud nemá některý zaměstnanec plat za únor, znamená to, že v naší firmě již nepracuje.\n",
    "\n",
    "# print(zamestnanci.shape)\n",
    "\n",
    "# print(zam_platy.shape)\n",
    "\n",
    "# # Spočti průměrný plat zaměstnanců v jednotlivých kancelářích.\n",
    "\n",
    "# prum_plat = zam_platy.groupby('Misto')['plat'].mean()\n",
    "# prum_plat  "
   ]
  },
  {
   "cell_type": "code",
   "execution_count": 86,
   "metadata": {},
   "outputs": [
    {
     "name": "stdout",
     "output_type": "stream",
     "text": [
      "(13, 6)\n"
     ]
    }
   ],
   "source": [
    "#Doplnek\n",
    "#Ulož do proměnné počet zaměstnaců, kteří v naší firmě již nepracují.\n",
    "\n",
    "pocet_neprac = zam_platy[zam_platy['plat'].isnull()]\n",
    "print(pocet_neprac.shape)\n",
    "\n",
    "#V rámci úspory se IT oddělení rozhodlo prověřit licence přidělené zaměstnancům, kteří ve firmě již nepracují. Vytvoř samostatnou tabulku, která obsahuje jména zaměstnanců,\n",
    "# kteří ve firmě již nepracují. Tabulku ulož do souboru CSV.\n",
    "\n",
    "zam_nepracujici = zam_platy[zam_platy['plat'].isnull()]\n",
    "zam_nepracujici = pandas.DataFrame(zam_nepracujici, columns=['jmeno','prijimeni'])"
   ]
  },
  {
   "cell_type": "code",
   "execution_count": null,
   "metadata": {},
   "outputs": [],
   "source": [
    "#PROJEKTY\n",
    "\n",
    "r = requests.get(\"https://raw.githubusercontent.com/andywaltlova/python-1-podzim-2022/master/ukoly/data/vykazy.csv\")\n",
    "open(\"vykazy.csv\", \"wb\").write(r.content)\n",
    "\n",
    "# Načti data ze souboru a ulož je do tabulky.\n",
    "\n",
    "vykazy = pandas.read_csv('vykazy.csv')\n",
    "vykazy\n",
    "\n",
    "# Proveď agregaci a zjisti celkový počet vykázaných hodin za jednotlivé projekty.\n",
    "\n",
    "celkovy_pocet_hodin = vykazy.groupby('project')['hours'].sum()\n",
    "celkovy_pocet_hodin\n"
   ]
  },
  {
   "cell_type": "code",
   "execution_count": null,
   "metadata": {},
   "outputs": [],
   "source": [
    "#DOPLNEK\n",
    "# Propoj tabulku s výkazy s tabulkou se zaměstnanci, kterou jsi vytvořil(a) v předchozím cvičení.\n",
    "\n",
    "stats_zamestnanci = pandas.merge(zamestnanci, vykazy, how='left', left_on='cislo_zamestnance', right_on='emloyee_id')\n",
    "stats_zamestnanci\n",
    "\n",
    "# Následně proveď statistiku vykázaných hodin za jednotlivé kanceláře, tj. spočítej celkový počet hodin vykázaný zaměstnanci jednotlivých kanceláří na projekty daného zákazníka.\n",
    "\n",
    "stats_zamestnanci.groupby(['project','Misto'])['hours'].sum()\n"
   ]
  }
 ],
 "metadata": {
  "kernelspec": {
   "display_name": "Python 3.9.10 64-bit",
   "language": "python",
   "name": "python3"
  },
  "language_info": {
   "codemirror_mode": {
    "name": "ipython",
    "version": 3
   },
   "file_extension": ".py",
   "mimetype": "text/x-python",
   "name": "python",
   "nbconvert_exporter": "python",
   "pygments_lexer": "ipython3",
   "version": "3.9.10"
  },
  "orig_nbformat": 4,
  "vscode": {
   "interpreter": {
    "hash": "1f04f33d2d3db6c786d94454a6207e9948406f274e7a70260d2cc60e47de26e9"
   }
  }
 },
 "nbformat": 4,
 "nbformat_minor": 2
}
