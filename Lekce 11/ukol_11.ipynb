{
 "cells": [
  {
   "cell_type": "code",
   "execution_count": null,
   "metadata": {},
   "outputs": [],
   "source": [
    "import pandas\n",
    "with open('posta.html', encoding='utf-8') as vstup:\n",
    "    posta = vstup.read()\n",
    "posta\n"
   ]
  },
  {
   "cell_type": "code",
   "execution_count": null,
   "metadata": {},
   "outputs": [],
   "source": [
    "posta_odradkovani = posta.replace('\\n', \" \")\n",
    "# posta_odradkovani"
   ]
  },
  {
   "cell_type": "code",
   "execution_count": null,
   "metadata": {},
   "outputs": [],
   "source": [
    "import re\n",
    "posta_mezery = re.sub(r'[\" \"]+',' ' ,posta_odradkovani)\n",
    "posta_mezery"
   ]
  },
  {
   "cell_type": "code",
   "execution_count": 92,
   "metadata": {},
   "outputs": [
    {
     "name": "stdout",
     "output_type": "stream",
     "text": [
      "['190 16 PRAHA 916', '378 08 DVORY NAD LUŽNICÍ', '190 16 PRAHA 916', '378 08 DVORY NAD LUŽNICÍ', '186 00 PRAHA 86', '118 00 PRAHA 011', '397 04 PÍSEK 4', '460 15 LIBEREC 15', '623 00 BRNO 23', '512 11 VYSOKÉ NAD JIZEROU', '378 07 RAPŠACH', '130 00 PRAHA 3', '273 01 KAMENNÉ ŽEHROVICE', '513 01 SEMILY', '398 11 PROTIVÍN', '742 45 FULNEK', '948 01 L']\n"
     ]
    }
   ],
   "source": [
    "# Najdi v datech všechna česká a slovenská města a jejich PSČ, která se nacházejí v ukázkových adresách. Mají format PSČ MĚSTO, kde PSČ se skládá ze tří číslic,\n",
    "#  mezery a dvou číslic, a MĚSTO se skládá z jednoho, dvou nebo tří slov oddělených mezerou, za kterými může ještě následovat číslo pošty.\n",
    "\n",
    "regex_mesto = re.compile(r'\\d{3} \\d{2} [A-ZÀ-ž]*\\s?[A-ZÀ-ž]*\\s?[A-ZÀ-ž]*\\s?[0-9]*')\n",
    "hledej_mesto = regex_mesto.findall(posta_mezery)\n",
    "print(hledej_mesto)"
   ]
  }
 ],
 "metadata": {
  "kernelspec": {
   "display_name": "Python 3.9.10 64-bit",
   "language": "python",
   "name": "python3"
  },
  "language_info": {
   "codemirror_mode": {
    "name": "ipython",
    "version": 3
   },
   "file_extension": ".py",
   "mimetype": "text/x-python",
   "name": "python",
   "nbconvert_exporter": "python",
   "pygments_lexer": "ipython3",
   "version": "3.9.10"
  },
  "orig_nbformat": 4,
  "vscode": {
   "interpreter": {
    "hash": "1f04f33d2d3db6c786d94454a6207e9948406f274e7a70260d2cc60e47de26e9"
   }
  }
 },
 "nbformat": 4,
 "nbformat_minor": 2
}
