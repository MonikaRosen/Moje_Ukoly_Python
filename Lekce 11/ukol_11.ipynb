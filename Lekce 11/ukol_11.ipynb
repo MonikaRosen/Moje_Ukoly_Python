{
 "cells": [
  {
   "cell_type": "code",
   "execution_count": null,
   "metadata": {},
   "outputs": [],
   "source": [
    "# Soubor si načti do proměnné tak, aby se celý jeho obsah nacházel jako jeden řetězec v proměnné. Můžeš využít metodu read() (doplň název souboru a název své proměnné):\n",
    "import pandas\n",
    "with open('posta.html', encoding='utf-8') as vstup:\n",
    "    posta = vstup.read()\n",
    "posta"
   ]
  },
  {
   "cell_type": "code",
   "execution_count": null,
   "metadata": {},
   "outputs": [],
   "source": [
    "# Nahraď znaky odřádkování (zapisuje se jako '\\n') jednoduchou mezerou pomocí metody replace()\n",
    "posta_odradkovani = posta.replace('\\n', \" \")\n",
    "posta_odradkovani"
   ]
  },
  {
   "cell_type": "code",
   "execution_count": null,
   "metadata": {},
   "outputs": [],
   "source": [
    "# Nahraď po sobě jdoucích víc mezer jedinou mezerou: Sestav regulární výraz, který označuje jednu nebo více mezer. Pak pomocí re.sub() nahraď takové sekvence jedinou mezerou. První parametr metody re.sub() je regulární výraz, který nahrazujeme, druhý parametr je řetězec, který nahrazujeme,\n",
    "#  a třetí parametr je řetězec, ve kterém nahrazujeme.\n",
    "import re\n",
    "posta_mezery = re.sub(r'[\" \"]+',' ' ,posta_odradkovani)\n",
    "posta_mezery"
   ]
  },
  {
   "cell_type": "code",
   "execution_count": null,
   "metadata": {},
   "outputs": [],
   "source": [
    "# Najdi v datech všechna česká a slovenská města a jejich PSČ, která se nacházejí v ukázkových adresách. Mají format PSČ MĚSTO, kde PSČ se skládá ze tří číslic,\n",
    "#  mezery a dvou číslic, a MĚSTO se skládá z jednoho, dvou nebo tří slov oddělených mezerou, za kterými může ještě následovat číslo pošty.\n",
    "\n",
    "regex_mesto = re.compile(r'\\d{3} \\d{2} [A-ZÀ-ž]+\\s?[A-ZÀ-ž]*\\s?[A-ZÀ-ž]*\\s?[0-9]*')\n",
    "hledej_mesto = regex_mesto.findall(posta_mezery)\n",
    "print(hledej_mesto)"
   ]
  }
 ],
 "metadata": {
  "kernelspec": {
   "display_name": "Python 3.9.10 64-bit",
   "language": "python",
   "name": "python3"
  },
  "language_info": {
   "codemirror_mode": {
    "name": "ipython",
    "version": 3
   },
   "file_extension": ".py",
   "mimetype": "text/x-python",
   "name": "python",
   "nbconvert_exporter": "python",
   "pygments_lexer": "ipython3",
   "version": "3.9.10"
  },
  "orig_nbformat": 4,
  "vscode": {
   "interpreter": {
    "hash": "1f04f33d2d3db6c786d94454a6207e9948406f274e7a70260d2cc60e47de26e9"
   }
  }
 },
 "nbformat": 4,
 "nbformat_minor": 2
}
