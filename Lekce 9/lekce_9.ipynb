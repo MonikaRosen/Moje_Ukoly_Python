{
 "cells": [
  {
   "cell_type": "code",
   "execution_count": null,
   "metadata": {},
   "outputs": [],
   "source": [
    "import requests\n",
    "\n",
    "url = \"https://kodim.cz/cms/assets/kurzy/python-data-1/python-pro-data-1/zakladni-dotazy/staty.json\"\n",
    "r = requests.get(url) # <Response [200]>\n",
    "open(\"staty.json\", \"wb\").write(r.content)\n"
   ]
  },
  {
   "cell_type": "code",
   "execution_count": null,
   "metadata": {},
   "outputs": [],
   "source": [
    "import pandas\n",
    "\n",
    "staty = pandas.read_json(\"staty.json\")\n"
   ]
  },
  {
   "cell_type": "code",
   "execution_count": null,
   "metadata": {},
   "outputs": [],
   "source": [
    "staty"
   ]
  },
  {
   "cell_type": "markdown",
   "metadata": {},
   "source": [
    "jaky sloupec ma index, pomoci toho kodu dole a ted uz to muzu pouzivat\n"
   ]
  },
  {
   "cell_type": "code",
   "execution_count": null,
   "metadata": {},
   "outputs": [],
   "source": [
    "staty = staty.set_index('name')\n",
    "staty.index"
   ]
  },
  {
   "cell_type": "code",
   "execution_count": null,
   "metadata": {},
   "outputs": [],
   "source": [
    "# ted uz je muzu pouzivat a hledat  podle toho\n",
    "staty.loc['Czech Republic', 'area']"
   ]
  },
  {
   "cell_type": "code",
   "execution_count": null,
   "metadata": {},
   "outputs": [],
   "source": [
    "# vyber vice radku\n",
    "staty.loc['Czech Republic':'Dominican Republic']"
   ]
  },
  {
   "cell_type": "code",
   "execution_count": null,
   "metadata": {},
   "outputs": [],
   "source": [
    "staty.loc['Dominican Republic':]"
   ]
  },
  {
   "cell_type": "code",
   "execution_count": null,
   "metadata": {},
   "outputs": [],
   "source": [
    "staty.loc[['Dominican Republic', 'Yemen'], ['population', 'area']]"
   ]
  },
  {
   "cell_type": "code",
   "execution_count": null,
   "metadata": {},
   "outputs": [],
   "source": [
    "staty.loc[['Czech Republic', 'Andorra']].iloc[:,:3]\n",
    "\n",
    "# nebo\n",
    "# staty.iloc[1:5]"
   ]
  },
  {
   "cell_type": "code",
   "execution_count": null,
   "metadata": {},
   "outputs": [],
   "source": [
    "# series_name = df['nazev_sloupce'], takze pouziti agregacni fce, vytvorim si promennou a muzu ji dal pouzivat\n",
    "\n",
    "populace = staty['population']\n",
    "\n",
    "populace.max()\n",
    "# populace.sum()"
   ]
  },
  {
   "cell_type": "code",
   "execution_count": null,
   "metadata": {},
   "outputs": [],
   "source": [
    "# vyber nejvyssi hodnotu sloupce\n",
    "staty['area'].max()"
   ]
  },
  {
   "cell_type": "code",
   "execution_count": null,
   "metadata": {},
   "outputs": [],
   "source": [
    "# fce describe, rekne vsechny statisticky info o tom konkretnim sloupci\n",
    "# populace.descibe()\n",
    "\n",
    "# o cele tabulce\n",
    "staty.describe()"
   ]
  },
  {
   "cell_type": "code",
   "execution_count": 105,
   "metadata": {},
   "outputs": [
    {
     "data": {
      "text/html": [
       "<div>\n",
       "<style scoped>\n",
       "    .dataframe tbody tr th:only-of-type {\n",
       "        vertical-align: middle;\n",
       "    }\n",
       "\n",
       "    .dataframe tbody tr th {\n",
       "        vertical-align: top;\n",
       "    }\n",
       "\n",
       "    .dataframe thead th {\n",
       "        text-align: right;\n",
       "    }\n",
       "</style>\n",
       "<table border=\"1\" class=\"dataframe\">\n",
       "  <thead>\n",
       "    <tr style=\"text-align: right;\">\n",
       "      <th></th>\n",
       "      <th>population</th>\n",
       "      <th>area</th>\n",
       "    </tr>\n",
       "    <tr>\n",
       "      <th>name</th>\n",
       "      <th></th>\n",
       "      <th></th>\n",
       "    </tr>\n",
       "  </thead>\n",
       "  <tbody>\n",
       "    <tr>\n",
       "      <th>Bouvet Island</th>\n",
       "      <td>0</td>\n",
       "      <td>49.00</td>\n",
       "    </tr>\n",
       "    <tr>\n",
       "      <th>United States Minor Outlying Islands</th>\n",
       "      <td>300</td>\n",
       "      <td>NaN</td>\n",
       "    </tr>\n",
       "    <tr>\n",
       "      <th>Cocos (Keeling) Islands</th>\n",
       "      <td>550</td>\n",
       "      <td>14.00</td>\n",
       "    </tr>\n",
       "    <tr>\n",
       "      <th>French Southern Territories</th>\n",
       "      <td>140</td>\n",
       "      <td>7747.00</td>\n",
       "    </tr>\n",
       "    <tr>\n",
       "      <th>Heard Island and McDonald Islands</th>\n",
       "      <td>0</td>\n",
       "      <td>412.00</td>\n",
       "    </tr>\n",
       "    <tr>\n",
       "      <th>Holy See</th>\n",
       "      <td>451</td>\n",
       "      <td>0.44</td>\n",
       "    </tr>\n",
       "    <tr>\n",
       "      <th>Pitcairn</th>\n",
       "      <td>56</td>\n",
       "      <td>47.00</td>\n",
       "    </tr>\n",
       "    <tr>\n",
       "      <th>South Georgia and the South Sandwich Islands</th>\n",
       "      <td>30</td>\n",
       "      <td>NaN</td>\n",
       "    </tr>\n",
       "  </tbody>\n",
       "</table>\n",
       "</div>"
      ],
      "text/plain": [
       "                                              population     area\n",
       "name                                                             \n",
       "Bouvet Island                                          0    49.00\n",
       "United States Minor Outlying Islands                 300      NaN\n",
       "Cocos (Keeling) Islands                              550    14.00\n",
       "French Southern Territories                          140  7747.00\n",
       "Heard Island and McDonald Islands                      0   412.00\n",
       "Holy See                                             451     0.44\n",
       "Pitcairn                                              56    47.00\n",
       "South Georgia and the South Sandwich Islands          30      NaN"
      ]
     },
     "execution_count": 105,
     "metadata": {},
     "output_type": "execute_result"
    }
   ],
   "source": [
    "# podminky!! \n",
    "# staty co maji min nez 1000 obyvatel, takto to vypise pravndivostni hodnoty\n",
    "\n",
    "# staty['population'] < 1000\n",
    "\n",
    "pidistaty = staty[staty['population'] < 1000]\n",
    "pidistaty[['population', 'area']]"
   ]
  },
  {
   "cell_type": "code",
   "execution_count": null,
   "metadata": {},
   "outputs": [],
   "source": [
    "# query:\n",
    "\n",
    "staty.query('population < 1000')"
   ]
  },
  {
   "cell_type": "code",
   "execution_count": null,
   "metadata": {},
   "outputs": [],
   "source": [
    "# spojeni podminek, pouzivame &, | - toto je OR, todle svislitko, nefunguje AND, OR, muzu to napsat i na jeden radek\n",
    "\n",
    "staty[\n",
    "    (staty['population'] > 2000000)\n",
    "    &\n",
    "    (staty['region'] == 'Europe')\n",
    "]\n"
   ]
  },
  {
   "cell_type": "code",
   "execution_count": null,
   "metadata": {},
   "outputs": [],
   "source": [
    "# takhle to funguje v tom query\n",
    "staty.query('population > 2000000 and region == \"Europe\"')"
   ]
  },
  {
   "cell_type": "code",
   "execution_count": null,
   "metadata": {},
   "outputs": [],
   "source": [
    "# df['sloupec'].isin(['hodnota1', 'hodnota2'])\n",
    "staty[(staty['population'] > 10_000_000) | (staty['area'] > 3_000_000)]"
   ]
  },
  {
   "cell_type": "code",
   "execution_count": null,
   "metadata": {},
   "outputs": [],
   "source": [
    "# pouziti tildy, vlnovky otaci vyznam ~, takze pokud napisu neco, ze chci true tak to udela false u tech podminek\n",
    "# takze to ukazuje, co tam neni\n",
    "# ~something.isin(somewhere)\n",
    "\n",
    "staty[~staty['subregion'].isin(['Western Europe', 'Eastern Europe'])]"
   ]
  },
  {
   "cell_type": "code",
   "execution_count": null,
   "metadata": {},
   "outputs": [],
   "source": [
    "import pandas\n",
    "\n",
    "jmena = pandas.read_csv(\"jmena.csv\")"
   ]
  },
  {
   "cell_type": "code",
   "execution_count": 106,
   "metadata": {},
   "outputs": [
    {
     "data": {
      "text/html": [
       "<div>\n",
       "<style scoped>\n",
       "    .dataframe tbody tr th:only-of-type {\n",
       "        vertical-align: middle;\n",
       "    }\n",
       "\n",
       "    .dataframe tbody tr th {\n",
       "        vertical-align: top;\n",
       "    }\n",
       "\n",
       "    .dataframe thead th {\n",
       "        text-align: right;\n",
       "    }\n",
       "</style>\n",
       "<table border=\"1\" class=\"dataframe\">\n",
       "  <thead>\n",
       "    <tr style=\"text-align: right;\">\n",
       "      <th></th>\n",
       "      <th>četnost</th>\n",
       "      <th>věk</th>\n",
       "      <th>pohlaví</th>\n",
       "      <th>svátek</th>\n",
       "      <th>původ</th>\n",
       "    </tr>\n",
       "    <tr>\n",
       "      <th>jméno</th>\n",
       "      <th></th>\n",
       "      <th></th>\n",
       "      <th></th>\n",
       "      <th></th>\n",
       "      <th></th>\n",
       "    </tr>\n",
       "  </thead>\n",
       "  <tbody>\n",
       "    <tr>\n",
       "      <th>Jiří</th>\n",
       "      <td>296090</td>\n",
       "      <td>49</td>\n",
       "      <td>m</td>\n",
       "      <td>24.4</td>\n",
       "      <td>řecký</td>\n",
       "    </tr>\n",
       "    <tr>\n",
       "      <th>Jan</th>\n",
       "      <td>293938</td>\n",
       "      <td>40</td>\n",
       "      <td>m</td>\n",
       "      <td>24.6. a 6.7</td>\n",
       "      <td>hebrejský</td>\n",
       "    </tr>\n",
       "    <tr>\n",
       "      <th>Petr</th>\n",
       "      <td>272135</td>\n",
       "      <td>42</td>\n",
       "      <td>m</td>\n",
       "      <td>22.2. a 29.6</td>\n",
       "      <td>řecký</td>\n",
       "    </tr>\n",
       "    <tr>\n",
       "      <th>Jana</th>\n",
       "      <td>264944</td>\n",
       "      <td>50</td>\n",
       "      <td>ž</td>\n",
       "      <td>24.5</td>\n",
       "      <td>hebrejský</td>\n",
       "    </tr>\n",
       "    <tr>\n",
       "      <th>Marie</th>\n",
       "      <td>260526</td>\n",
       "      <td>65</td>\n",
       "      <td>ž</td>\n",
       "      <td>12.9</td>\n",
       "      <td>hebrejský</td>\n",
       "    </tr>\n",
       "    <tr>\n",
       "      <th>...</th>\n",
       "      <td>...</td>\n",
       "      <td>...</td>\n",
       "      <td>...</td>\n",
       "      <td>...</td>\n",
       "      <td>...</td>\n",
       "    </tr>\n",
       "    <tr>\n",
       "      <th>Jindřich</th>\n",
       "      <td>26230</td>\n",
       "      <td>51</td>\n",
       "      <td>m</td>\n",
       "      <td>15.7</td>\n",
       "      <td>německý</td>\n",
       "    </tr>\n",
       "    <tr>\n",
       "      <th>Vlastimil</th>\n",
       "      <td>26014</td>\n",
       "      <td>54</td>\n",
       "      <td>m</td>\n",
       "      <td>17.3</td>\n",
       "      <td>slovanský</td>\n",
       "    </tr>\n",
       "    <tr>\n",
       "      <th>Iva</th>\n",
       "      <td>26003</td>\n",
       "      <td>46</td>\n",
       "      <td>ž</td>\n",
       "      <td>1.12</td>\n",
       "      <td>slovanský</td>\n",
       "    </tr>\n",
       "    <tr>\n",
       "      <th>Miloš</th>\n",
       "      <td>25509</td>\n",
       "      <td>53</td>\n",
       "      <td>m</td>\n",
       "      <td>25.1</td>\n",
       "      <td>slovanský</td>\n",
       "    </tr>\n",
       "    <tr>\n",
       "      <th>Zdenka</th>\n",
       "      <td>25416</td>\n",
       "      <td>68</td>\n",
       "      <td>ž</td>\n",
       "      <td>23.6</td>\n",
       "      <td>slovanský</td>\n",
       "    </tr>\n",
       "  </tbody>\n",
       "</table>\n",
       "<p>100 rows × 5 columns</p>\n",
       "</div>"
      ],
      "text/plain": [
       "           četnost  věk pohlaví        svátek      původ\n",
       "jméno                                                   \n",
       "Jiří        296090   49       m          24.4      řecký\n",
       "Jan         293938   40       m   24.6. a 6.7  hebrejský\n",
       "Petr        272135   42       m  22.2. a 29.6      řecký\n",
       "Jana        264944   50       ž          24.5  hebrejský\n",
       "Marie       260526   65       ž          12.9  hebrejský\n",
       "...            ...  ...     ...           ...        ...\n",
       "Jindřich     26230   51       m          15.7    německý\n",
       "Vlastimil    26014   54       m          17.3  slovanský\n",
       "Iva          26003   46       ž          1.12  slovanský\n",
       "Miloš        25509   53       m          25.1  slovanský\n",
       "Zdenka       25416   68       ž          23.6  slovanský\n",
       "\n",
       "[100 rows x 5 columns]"
      ]
     },
     "execution_count": 106,
     "metadata": {},
     "output_type": "execute_result"
    }
   ],
   "source": [
    "jmena"
   ]
  },
  {
   "cell_type": "code",
   "execution_count": null,
   "metadata": {},
   "outputs": [],
   "source": [
    "#  Jako index zvol sloupec s názvem 'jméno'.\n",
    "jmena = jmena.set_index('jméno')\n",
    "jmena.index"
   ]
  },
  {
   "cell_type": "code",
   "execution_count": null,
   "metadata": {},
   "outputs": [],
   "source": [
    "# Vypište na konzoli informace o jménu Jiří.\n",
    "jmena.loc['Jiří']\n"
   ]
  },
  {
   "cell_type": "code",
   "execution_count": null,
   "metadata": {},
   "outputs": [],
   "source": [
    "# Vypište na konzoli informace pro jména Martin, Zuzana a Josef.\n",
    "jmena.loc[['Martin','Zuzana','Josef']]"
   ]
  },
  {
   "cell_type": "code",
   "execution_count": null,
   "metadata": {},
   "outputs": [],
   "source": [
    "# Vypište na konzoli informace o všech nejčastějších jménech až po Martina.\n",
    "jmena.loc[:'Martin']\n",
    "\n",
    "# jmena.sort_values(by='jméno').loc[:'Martin']"
   ]
  },
  {
   "cell_type": "code",
   "execution_count": null,
   "metadata": {},
   "outputs": [],
   "source": [
    "# Vypište pouze průměrné věky osob mající jména mezi Martinem a Terezou.\n",
    "jmena.loc['Martin':'Tereza', 'věk']"
   ]
  },
  {
   "cell_type": "code",
   "execution_count": null,
   "metadata": {},
   "outputs": [],
   "source": [
    "# Vypište průměrný věk a původ pro všechna jména od Libora dolů.\n",
    "jmena.loc['Libor':, ['věk', 'původ']]"
   ]
  },
  {
   "cell_type": "code",
   "execution_count": null,
   "metadata": {},
   "outputs": [],
   "source": [
    "# Vypište sloupečky mezi věkem a původem pro všechna jména v tabulce.\n",
    "# vybiratm df.loc['radek, 'sloupec']\n",
    "# df.loc[\"radek\", \"sloupec\"]\n",
    "# df.loc[\"radek1\":\"radek2\", \"soupec1\":\"sloupec\"] / bez vnitrnich zavorek je to rozsah\n",
    "# df.loc[[\"radek1\",\"radek2\"], [\"soupec1\",\"sloupec\"]] / seznam, mam tam ty vnitrni zavorky\n",
    "\n",
    "jmena.loc[:,'věk':'původ']"
   ]
  },
  {
   "cell_type": "code",
   "execution_count": null,
   "metadata": {},
   "outputs": [],
   "source": [
    "# Vypiš všechny řádky se jmény, jejichž nositelé mají průměrný věk vyšší než 60.\n",
    "# vek = jmena['věk']\n",
    "# prom = jmena[jmena['věk'] > 60]\n",
    "# prom[['jméno']]\n",
    "\n",
    "jmena.query('věk > 60')\n"
   ]
  },
  {
   "cell_type": "code",
   "execution_count": null,
   "metadata": {},
   "outputs": [],
   "source": [
    "# Vypiš pouze jména z těch řádků, kde četnost je mezi 80 000 a 100 000.\n",
    "# jmena.query('četnost > 80000 and četnost < 100000')\n",
    "\n",
    "jmena[(jmena['četnost'] > 80000) & (jmena['četnost'] < 100000)]\n"
   ]
  },
  {
   "cell_type": "code",
   "execution_count": 108,
   "metadata": {},
   "outputs": [
    {
     "name": "stdout",
     "output_type": "stream",
     "text": [
      "Jmen je 52.\n"
     ]
    }
   ],
   "source": [
    "# Vypiš jména a četnost pro jména se slovanským nebo hebrejským původem. Kolik takových jmen je?\n",
    "vybranaJmena = jmena[jmena['původ'].isin(['slovanský','hebrejský'])]\n",
    "\n",
    "# vybranaJmena['jméno', 'četnost']\n",
    "\n",
    "print(f\"Jmen je {vybranaJmena.shape[0]}.\")"
   ]
  },
  {
   "cell_type": "code",
   "execution_count": 114,
   "metadata": {},
   "outputs": [
    {
     "ename": "KeyError",
     "evalue": "\"['jméno'] not in index\"",
     "output_type": "error",
     "traceback": [
      "\u001b[1;31m---------------------------------------------------------------------------\u001b[0m",
      "\u001b[1;31mKeyError\u001b[0m                                  Traceback (most recent call last)",
      "Cell \u001b[1;32mIn [114], line 6\u001b[0m\n\u001b[0;32m      1\u001b[0m \u001b[39m# Vypiš všechna jména, která mají svátek první 3 dny v prosinci.\u001b[39;00m\n\u001b[0;32m      2\u001b[0m prosinecJmena \u001b[39m=\u001b[39m jmena[jmena[\u001b[39m'\u001b[39m\u001b[39msvátek\u001b[39m\u001b[39m'\u001b[39m]\u001b[39m.\u001b[39misin([\u001b[39m'\u001b[39m\u001b[39m1.12.\u001b[39m\u001b[39m'\u001b[39m,\u001b[39m'\u001b[39m\u001b[39m2.12\u001b[39m\u001b[39m'\u001b[39m,\u001b[39m'\u001b[39m\u001b[39m3.12\u001b[39m\u001b[39m'\u001b[39m])]\n\u001b[1;32m----> 6\u001b[0m \u001b[39mprint\u001b[39m(prosinecJmena[[\u001b[39m'\u001b[39;49m\u001b[39mjméno\u001b[39;49m\u001b[39m'\u001b[39;49m,\u001b[39m'\u001b[39;49m\u001b[39msvátek\u001b[39;49m\u001b[39m'\u001b[39;49m]]\u001b[39m.\u001b[39msort_values(\u001b[39m'\u001b[39m\u001b[39msvátek\u001b[39m\u001b[39m'\u001b[39m))\n",
      "File \u001b[1;32mc:\\Users\\mrose\\AppData\\Local\\Programs\\Python\\Python39\\lib\\site-packages\\pandas\\core\\frame.py:3810\u001b[0m, in \u001b[0;36mDataFrame.__getitem__\u001b[1;34m(self, key)\u001b[0m\n\u001b[0;32m   3808\u001b[0m     \u001b[39mif\u001b[39;00m is_iterator(key):\n\u001b[0;32m   3809\u001b[0m         key \u001b[39m=\u001b[39m \u001b[39mlist\u001b[39m(key)\n\u001b[1;32m-> 3810\u001b[0m     indexer \u001b[39m=\u001b[39m \u001b[39mself\u001b[39;49m\u001b[39m.\u001b[39;49mcolumns\u001b[39m.\u001b[39;49m_get_indexer_strict(key, \u001b[39m\"\u001b[39;49m\u001b[39mcolumns\u001b[39;49m\u001b[39m\"\u001b[39;49m)[\u001b[39m1\u001b[39m]\n\u001b[0;32m   3812\u001b[0m \u001b[39m# take() does not accept boolean indexers\u001b[39;00m\n\u001b[0;32m   3813\u001b[0m \u001b[39mif\u001b[39;00m \u001b[39mgetattr\u001b[39m(indexer, \u001b[39m\"\u001b[39m\u001b[39mdtype\u001b[39m\u001b[39m\"\u001b[39m, \u001b[39mNone\u001b[39;00m) \u001b[39m==\u001b[39m \u001b[39mbool\u001b[39m:\n",
      "File \u001b[1;32mc:\\Users\\mrose\\AppData\\Local\\Programs\\Python\\Python39\\lib\\site-packages\\pandas\\core\\indexes\\base.py:6111\u001b[0m, in \u001b[0;36mIndex._get_indexer_strict\u001b[1;34m(self, key, axis_name)\u001b[0m\n\u001b[0;32m   6108\u001b[0m \u001b[39melse\u001b[39;00m:\n\u001b[0;32m   6109\u001b[0m     keyarr, indexer, new_indexer \u001b[39m=\u001b[39m \u001b[39mself\u001b[39m\u001b[39m.\u001b[39m_reindex_non_unique(keyarr)\n\u001b[1;32m-> 6111\u001b[0m \u001b[39mself\u001b[39;49m\u001b[39m.\u001b[39;49m_raise_if_missing(keyarr, indexer, axis_name)\n\u001b[0;32m   6113\u001b[0m keyarr \u001b[39m=\u001b[39m \u001b[39mself\u001b[39m\u001b[39m.\u001b[39mtake(indexer)\n\u001b[0;32m   6114\u001b[0m \u001b[39mif\u001b[39;00m \u001b[39misinstance\u001b[39m(key, Index):\n\u001b[0;32m   6115\u001b[0m     \u001b[39m# GH 42790 - Preserve name from an Index\u001b[39;00m\n",
      "File \u001b[1;32mc:\\Users\\mrose\\AppData\\Local\\Programs\\Python\\Python39\\lib\\site-packages\\pandas\\core\\indexes\\base.py:6174\u001b[0m, in \u001b[0;36mIndex._raise_if_missing\u001b[1;34m(self, key, indexer, axis_name)\u001b[0m\n\u001b[0;32m   6171\u001b[0m     \u001b[39mraise\u001b[39;00m \u001b[39mKeyError\u001b[39;00m(\u001b[39mf\u001b[39m\u001b[39m\"\u001b[39m\u001b[39mNone of [\u001b[39m\u001b[39m{\u001b[39;00mkey\u001b[39m}\u001b[39;00m\u001b[39m] are in the [\u001b[39m\u001b[39m{\u001b[39;00maxis_name\u001b[39m}\u001b[39;00m\u001b[39m]\u001b[39m\u001b[39m\"\u001b[39m)\n\u001b[0;32m   6173\u001b[0m not_found \u001b[39m=\u001b[39m \u001b[39mlist\u001b[39m(ensure_index(key)[missing_mask\u001b[39m.\u001b[39mnonzero()[\u001b[39m0\u001b[39m]]\u001b[39m.\u001b[39munique())\n\u001b[1;32m-> 6174\u001b[0m \u001b[39mraise\u001b[39;00m \u001b[39mKeyError\u001b[39;00m(\u001b[39mf\u001b[39m\u001b[39m\"\u001b[39m\u001b[39m{\u001b[39;00mnot_found\u001b[39m}\u001b[39;00m\u001b[39m not in index\u001b[39m\u001b[39m\"\u001b[39m)\n",
      "\u001b[1;31mKeyError\u001b[0m: \"['jméno'] not in index\""
     ]
    }
   ],
   "source": [
    "# Vypiš všechna jména, která mají svátek první 3 dny v prosinci.\n",
    "prosinecJmena = jmena[jmena['svátek'].isin(['1.12.','2.12','3.12'])]\n",
    "\n",
    "\n",
    "\n",
    "print(prosinecJmena[['jméno','svátek']].sort_values('svátek'))"
   ]
  },
  {
   "cell_type": "code",
   "execution_count": null,
   "metadata": {},
   "outputs": [],
   "source": [
    "# vytvareni dataframu pres pandas, lze tvorit takto z listu nebo se da i ze slovniku a tam nemusim psat nazvy tech sloupcu\n",
    "znamky = [\n",
    "    ['Petr', 2],\n",
    "    ['Roman', 1],\n",
    "    ['Jitka', 3],\n",
    "    ['Zuzana', 5],\n",
    "    ['Ondřej', 2],\n",
    "    ['Julie', 2],\n",
    "    ['Karel', 4],\n",
    "    ['Anna', 1],\n",
    "    ['Eva', 1]\n",
    "]\n",
    "\n",
    "znamky = pandas.DataFrame(znamky, columns=['student','znamka'])\n",
    "znamky"
   ]
  },
  {
   "cell_type": "code",
   "execution_count": null,
   "metadata": {},
   "outputs": [],
   "source": [
    "nakupy = [\n",
    "    {\"person\": \"Petr\", \"item\": \"Prací prášek\", \"value\": 399},\n",
    "    {\"person\": \"Ondra\", \"item\": \"Savo\", \"value\": 80},\n",
    "    {\"person\": \"Petr\", \"item\": \"Toaletní papír\", \"value\": 65},\n",
    "    {\"person\": \"Libor\", \"item\": \"Pivo\", \"value\": 124},\n",
    "    {\"person\": \"Petr\", \"item\": \"Pytel na odpadky\", \"value\": 75},\n",
    "    {\"person\": \"Míša\", \"item\": \"Utěrky na nádobí\", \"value\": 130},\n",
    "    {\"person\": \"Ondra\", \"item\": \"Toaletní papír\", \"value\": 120},\n",
    "    {\"person\": \"Míša\", \"item\": \"Pečící papír\", \"value\": 30},\n",
    "    {\"person\": \"Zuzka\", \"item\": \"Savo\", \"value\": 80},\n",
    "    {\"person\": \"Pavla\", \"item\": \"Máslo\", \"value\": 50},\n",
    "    {\"person\": \"Ondra\", \"item\": \"Káva\", \"value\": 300}\n",
    "]\n",
    "\n",
    "nakupy = pandas.DataFrame(nakupy)\n",
    "nakupy"
   ]
  }
 ],
 "metadata": {
  "kernelspec": {
   "display_name": "Python 3.9.10 64-bit",
   "language": "python",
   "name": "python3"
  },
  "language_info": {
   "codemirror_mode": {
    "name": "ipython",
    "version": 3
   },
   "file_extension": ".py",
   "mimetype": "text/x-python",
   "name": "python",
   "nbconvert_exporter": "python",
   "pygments_lexer": "ipython3",
   "version": "3.9.10"
  },
  "orig_nbformat": 4,
  "vscode": {
   "interpreter": {
    "hash": "1f04f33d2d3db6c786d94454a6207e9948406f274e7a70260d2cc60e47de26e9"
   }
  }
 },
 "nbformat": 4,
 "nbformat_minor": 2
}
