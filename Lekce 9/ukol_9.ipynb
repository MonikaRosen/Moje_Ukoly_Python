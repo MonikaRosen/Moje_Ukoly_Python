{
 "cells": [
  {
   "cell_type": "code",
   "execution_count": null,
   "metadata": {},
   "outputs": [],
   "source": [
    "import pandas\n",
    "\n",
    "temperature = pandas.read_csv('temperature.csv')\n",
    "\n",
    "temperature.head()"
   ]
  },
  {
   "cell_type": "code",
   "execution_count": null,
   "metadata": {},
   "outputs": [],
   "source": [
    "# 1. Dotaz na měření, která byla provedena v Praze. Je na datech něco zvláštního? Napadá tě, čím to může být? Zde je nápověda.\n",
    "\n",
    "temperature = temperature.set_index('City')\n",
    "temperature.index\n",
    "\n",
    "temperature.loc['Prague']\n",
    "# 2. Dotaz na měření, ve kterých je teplota (sloupec AvgTemperature) vyšší než 80 stupňů.\n",
    "\n",
    "temperature_over_80 = temperature[temperature['AvgTemperature'] > 80]\n",
    "temperature_over_80\n",
    "\n",
    "# 3. Dotaz na měření, ve kterých je teplota vyšší než 60 stupňů a současně bylo měření provedeno v regionu (sloupec Region) Evropa (Europe).\n",
    "temperature1 = temperature[(temperature['AvgTemperature'] > 60) & (temperature['Region'] == 'Europe')]\n",
    "temperature1\n",
    "\n",
    "# temperature.query('AvgTemperature > 60 and Region == \"Europe\"')\n",
    "\n",
    "# 4. Dotaz na extrémní hodnoty, tj. měření, ve kterých je teplota vyšší než 80 stupňů nebo menší než - 20 stupňů.\n",
    "temperature2 = temperature[(temperature['AvgTemperature'] > 80) | (temperature['AvgTemperature'] < -20)]\n",
    "temperature2\n",
    "\n",
    "# temperature.query('AvgTemperature > 80 or AvgTemperature < -20')\n",
    "\n",
    "\n"
   ]
  },
  {
   "cell_type": "code",
   "execution_count": null,
   "metadata": {},
   "outputs": [],
   "source": [
    "#BONUS\n",
    "\n",
    "import pytemperature\n",
    "\n",
    "temperature[\"AvgTemperatureCelsia\"] = pytemperature.f2c(temperature[\"AvgTemperature\"])\n",
    "\n",
    "temperature.head()"
   ]
  },
  {
   "cell_type": "code",
   "execution_count": null,
   "metadata": {},
   "outputs": [],
   "source": [
    "# 1. Dotaz na měření, ve kterých je teplota (sloupec AvgTemperatureCelsia) vyšší než 30 stupňů Celsia.\n",
    "\n",
    "temperature_over_30 = temperature[temperature['AvgTemperatureCelsia'] > 30]\n",
    "temperature_over_30\n",
    "\n",
    "# 2. Dotaz na měření, ve kterých je teplota vyšší než 15 stupňů Celsia a současně bylo měření provedeno v regionu (sloupec Region) Evropa (Europe).\n",
    "\n",
    "temperature3 = temperature[(temperature['AvgTemperatureCelsia'] > 15) & (temperature['Region'] == 'Europe')]\n",
    "temperature3\n",
    "\n",
    "# 3. Dotaz na extrémní hodnoty, tj. měření, ve kterých je teplota vyšší než 30 stupňů Celsia nebo menší než -10 stupňů. Jsou některé hodnoty podezřelé?\n",
    "\n",
    "temperature4 = temperature[(temperature['AvgTemperatureCelsia'] > 30) | (temperature['AvgTemperatureCelsia'] < -10)]\n",
    "temperature4\n",
    "\n",
    "# kontrola vadnych hodnot\n",
    "temperature5 = temperature[(temperature['AvgTemperatureCelsia'] > 40) | (temperature['AvgTemperatureCelsia'] < -50)]\n",
    "temperature5"
   ]
  },
  {
   "cell_type": "code",
   "execution_count": null,
   "metadata": {},
   "outputs": [],
   "source": [
    "# Bonus 2\n",
    "\n",
    "# 1. Dotaz na řádky z 13. listopadu 2017 (sloupec Day musí mít hodnotu 13).\n",
    "\n",
    "temperature6 = temperature[temperature['Day'] == 13]\n",
    "temperature6\n",
    "\n",
    "\n",
    "# 2. Dotaz na řádky z 13. listopadu 2017 ze Spojených států amerických (sloupec Day musí mít hodnotu 13 a sloupec Country hodnotu US\n",
    "temperature7 = temperature[(temperature['Day'] == 13) & (temperature['Country'] == 'US')]\n",
    "temperature7\n",
    "\n",
    "\n",
    "#  Výsledek dotazu si ulož do nové tabulky a použij ji jako vstup pro následující dotaz.\n",
    "\n",
    "new_table = pandas.DataFrame(temperature7)\n",
    "new_table\n",
    "\n",
    "# 3. Pro data z předchozího dotazu napiš dotaz na řádky ve městech (sloupec City) Washington a Philadelphia.\n",
    "\n",
    "temperature8 = new_table[(new_table['City'] == 'Washington') | (new_table['City'] == 'Philadelphia')]\n",
    "temperature8"
   ]
  }
 ],
 "metadata": {
  "kernelspec": {
   "display_name": "Python 3.9.10 64-bit",
   "language": "python",
   "name": "python3"
  },
  "language_info": {
   "codemirror_mode": {
    "name": "ipython",
    "version": 3
   },
   "file_extension": ".py",
   "mimetype": "text/x-python",
   "name": "python",
   "nbconvert_exporter": "python",
   "pygments_lexer": "ipython3",
   "version": "3.9.10"
  },
  "orig_nbformat": 4,
  "vscode": {
   "interpreter": {
    "hash": "1f04f33d2d3db6c786d94454a6207e9948406f274e7a70260d2cc60e47de26e9"
   }
  }
 },
 "nbformat": 4,
 "nbformat_minor": 2
}
