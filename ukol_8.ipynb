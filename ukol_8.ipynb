{
 "cells": [
  {
   "cell_type": "code",
   "execution_count": null,
   "metadata": {},
   "outputs": [],
   "source": [
    "import pandas\n",
    "\n",
    "zvirata = pandas.read_csv(\"adopce-zvirat.csv\", sep = ';')"
   ]
  },
  {
   "cell_type": "code",
   "execution_count": null,
   "metadata": {},
   "outputs": [],
   "source": [
    "print(zvirata)"
   ]
  },
  {
   "cell_type": "code",
   "execution_count": null,
   "metadata": {},
   "outputs": [],
   "source": [
    "#kolik ma radku a sloupcu\n",
    "zvirata.info\n",
    "\n",
    "# zvirata.shape\n"
   ]
  },
  {
   "cell_type": "code",
   "execution_count": null,
   "metadata": {},
   "outputs": [],
   "source": [
    "#jak se sloupce jmenuji\n",
    "zvirata.columns"
   ]
  },
  {
   "cell_type": "code",
   "execution_count": null,
   "metadata": {},
   "outputs": [],
   "source": [
    "# Které zvíře se nachází na záznamu s indexem 34? Vypiš pomocí iloc název tohoto zvířete v češtině i angličtině.\n",
    "\n",
    "zvirata.iloc[34,1:3]\n"
   ]
  },
  {
   "cell_type": "markdown",
   "metadata": {},
   "source": [
    "BONUS"
   ]
  },
  {
   "cell_type": "code",
   "execution_count": null,
   "metadata": {},
   "outputs": [],
   "source": [
    "import pandas\n",
    "\n",
    "zvirata = pandas.read_csv(\"adopce-zvirat.csv\", sep = ';')"
   ]
  },
  {
   "cell_type": "code",
   "execution_count": null,
   "metadata": {},
   "outputs": [],
   "source": [
    "# Načti znovu data, ale tentokrát nastav parametr index_col na název sloupce, který obsahuje název zvířete v češtině. \n",
    "# Všimni si, že sloupec teď povýší na index a už se nenachází mezi \"běžnými\" sloupci.\n",
    "zvirata = zvirata.set_index('nazev_cz')\n",
    "zvirata.index"
   ]
  },
  {
   "cell_type": "code",
   "execution_count": null,
   "metadata": {},
   "outputs": [],
   "source": [
    "zvirata.head()"
   ]
  },
  {
   "cell_type": "code",
   "execution_count": null,
   "metadata": {},
   "outputs": [],
   "source": [
    "# Pomocí <tvoje-promenna>.index.is_unique ověř, zda je nový index unikátní.\n",
    "zvirata.index.is_unique"
   ]
  },
  {
   "cell_type": "code",
   "execution_count": null,
   "metadata": {},
   "outputs": [],
   "source": [
    "# Seřazený index je efektivnější a přehlednější. Seřaď index pomocí metody .sort_index(). \n",
    "# Bacha, metoda vrátí novou tabulku se seřazeným indexem. Budeš tedy chtít přepsat původní dataframe.\n",
    "zvirata_sort = zvirata.sort_index()"
   ]
  },
  {
   "cell_type": "code",
   "execution_count": null,
   "metadata": {},
   "outputs": [],
   "source": [
    "zvirata_sort"
   ]
  },
  {
   "cell_type": "code",
   "execution_count": null,
   "metadata": {},
   "outputs": [],
   "source": [
    "# Vyhledej řádek indexovaný názvem \"Outloň váhavý\". Namísto metody .iloc využij .loc.\n",
    "zvirata_sort.loc[['Outloň váhavý']]"
   ]
  },
  {
   "cell_type": "code",
   "execution_count": null,
   "metadata": {},
   "outputs": [],
   "source": [
    "# Rozsahy fungují podobně jako u číselných indexů. Vyhledej záznamy mezi \"Želva Smithova\" a \"Želva žlutočelá\".\n",
    "zvirata_sort.loc['Želva Smithova':'Želva žlutočelá']"
   ]
  }
 ],
 "metadata": {
  "kernelspec": {
   "display_name": "Python 3.9.10 64-bit",
   "language": "python",
   "name": "python3"
  },
  "language_info": {
   "codemirror_mode": {
    "name": "ipython",
    "version": 3
   },
   "file_extension": ".py",
   "mimetype": "text/x-python",
   "name": "python",
   "nbconvert_exporter": "python",
   "pygments_lexer": "ipython3",
   "version": "3.9.10"
  },
  "orig_nbformat": 4,
  "vscode": {
   "interpreter": {
    "hash": "1f04f33d2d3db6c786d94454a6207e9948406f274e7a70260d2cc60e47de26e9"
   }
  }
 },
 "nbformat": 4,
 "nbformat_minor": 2
}
